import pandas as pd
from draw_plots import PlotDrawer

json_file = 'deviation.json'
df = pd.read_json(json_file, orient='index')
display(df)


drawer = PlotDrawer()
plot_paths = drawer.draw_plots(json_file)
for path in plot_paths:
    print(path)


